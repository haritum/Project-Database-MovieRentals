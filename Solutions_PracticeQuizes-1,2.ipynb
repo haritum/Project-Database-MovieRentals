{
 "cells": [
  {
   "cell_type": "markdown",
   "metadata": {},
   "source": [
    "<span style='color:red'> This jupyter-notebook contains solutions for the Practice Quizes attempted while completign the Project: Investigate a Relational Database. </span>"
   ]
  },
  {
   "cell_type": "markdown",
   "metadata": {},
   "source": [
    "***"
   ]
  },
  {
   "cell_type": "markdown",
   "metadata": {},
   "source": [
    "## <span style='color:blue'> Practice Quiz #1 </span>"
   ]
  },
  {
   "cell_type": "markdown",
   "metadata": {},
   "source": [
    "**Q1**: Create a table that provides the following details: \n",
    "    - Actor's first and last name combined as full_name\n",
    "    - Film title\n",
    "    - Film description\n",
    "    - Length of the movie. "
   ]
  },
  {
   "cell_type": "markdown",
   "metadata": {},
   "source": [
    "```sql\n",
    "\n",
    "SELECT  a.first_name AS actor_firstname,\n",
    "\t\ta.last_name AS actor_lastname,\n",
    "\t\ta.first_name || ' ' || a.last_name AS actor_fullname,\n",
    "        f.title AS film_title,\n",
    "        f.description AS film_description,\n",
    "        f.length AS film_length\n",
    "FROM film_actor AS fa\n",
    "JOIN actor AS a\n",
    "ON a.actor_id = fa.actor_id\n",
    "JOIN film AS f\n",
    "ON f.film_id = fa.film_id;\n",
    "\n",
    "```"
   ]
  },
  {
   "cell_type": "markdown",
   "metadata": {},
   "source": [
    "**Q2**: Create a table with list of actors and movies where the movie length was more than 60 minutes. \n",
    "    - How many rows are there in this query result?"
   ]
  },
  {
   "cell_type": "markdown",
   "metadata": {},
   "source": [
    "```sql\n",
    "SELECT COUNT(*) nfilms_gt60\n",
    "FROM\n",
    "    (SELECT  a.first_name || ' ' || a.last_name AS actor_fullname,\n",
    "            f.title AS film_title,\n",
    "            f.length AS film_length\n",
    "    FROM film_actor AS fa\n",
    "    JOIN actor AS a\n",
    "    ON a.actor_id = fa.actor_id\n",
    "    JOIN film AS f\n",
    "    ON f.film_id = fa.film_id\n",
    "    WHERE f.length > 60\n",
    "    ) sq;\n",
    "```"
   ]
  },
  {
   "cell_type": "markdown",
   "metadata": {},
   "source": [
    "**Q3**: Write a query that captures the \n",
    "    - actor id\n",
    "    - full name of the actor\n",
    "    - counts the number of movies each actor has made\n",
    "    (HINT: Think about whether you should group by actor id or the full name of the actor.) \n",
    "    - Identify the actor who has made the maximum number movies."
   ]
  },
  {
   "cell_type": "markdown",
   "metadata": {},
   "source": [
    "```sql\n",
    "\n",
    "SELECT  a.actor_id AS actor_id,\n",
    "        a.first_name || ' ' || a.last_name AS actor_fullname,\n",
    "        COUNT(f.title) AS nfilms_actor\n",
    "FROM film_actor AS fa\n",
    "JOIN actor AS a\n",
    "ON a.actor_id = fa.actor_id\n",
    "JOIN film AS f\n",
    "ON f.film_id = fa.film_id\n",
    "GROUP BY 1\n",
    "ORDER BY 3 DESC\n",
    "LIMIT 1;\n",
    "\n",
    "```"
   ]
  },
  {
   "cell_type": "markdown",
   "metadata": {},
   "source": [
    "***"
   ]
  },
  {
   "cell_type": "markdown",
   "metadata": {},
   "source": [
    "## <span style='color:blue'> Practice Quiz #2 </span>"
   ]
  },
  {
   "cell_type": "markdown",
   "metadata": {},
   "source": [
    "**Q1**: Write a query that displays a table with 4 columns: \n",
    "    - actor's full name\n",
    "    - film title\n",
    "    - length of movie\n",
    "    - a column name \"filmlen_groups\" that classifies movies based on their length. \n",
    "    - Filmlen_groups should include 4 categories: \n",
    "        - 1 hour or less\n",
    "        - Between 1-2 hours\n",
    "        - Between 2-3 hours\n",
    "        - More than 3 hours."
   ]
  },
  {
   "cell_type": "markdown",
   "metadata": {},
   "source": [
    "```sql\n",
    "\n",
    "SELECT  a.first_name || ' ' || a.last_name AS actor_fullname,\n",
    "        f.title AS film_title,\n",
    "        f.length AS film_length,\n",
    "        CASE\n",
    "            WHEN (f.length <= 60) THEN '1 hour or less'\n",
    "            WHEN (f.length > 60 AND f.length <= 120) THEN 'Between 1-2 hours'\n",
    "            WHEN (f.length > 120 AND f.length <= 180) THEN 'Between 2-3 hours'\n",
    "            ELSE 'More than 3 hours' \n",
    "        END AS filmlen_groups\n",
    "FROM film_actor AS fa\n",
    "JOIN actor AS a\n",
    "ON a.actor_id = fa.actor_id\n",
    "JOIN film AS f\n",
    "ON f.film_id = fa.film_id;\n",
    "\n",
    "```"
   ]
  },
  {
   "cell_type": "markdown",
   "metadata": {},
   "source": [
    "Q2: Revise the query you wrote above to create a count of movies in each of the 4 filmlen_groups: 1 hour or less, Between 1-2 hours, Between 2-3 hours, More than 3 hours."
   ]
  },
  {
   "cell_type": "markdown",
   "metadata": {},
   "source": [
    "```sql\n",
    "\n",
    "WITH film_groups AS (SELECT f.title,\n",
    "        f.length,\n",
    "        CASE\n",
    "            WHEN (f.length <= 60) THEN '1 hour or less'\n",
    "            WHEN (f.length > 60 AND f.length <= 120) THEN 'Between 1-2 hours'\n",
    "            WHEN (f.length > 120 AND f.length <= 180) THEN 'Between 2-3 hours'\n",
    "            ELSE 'More than 3 hours' \n",
    "        END AS filmlen_groups\n",
    "FROM film AS f)\n",
    "\n",
    "\n",
    "SELECT DISTINCT(filmlen_groups),\n",
    "\t\tCOUNT(title) OVER (PARTITION BY filmlen_groups) AS nfilm_groups\n",
    "FROM film_groups\n",
    "\n",
    "```"
   ]
  },
  {
   "cell_type": "markdown",
   "metadata": {},
   "source": [
    "***"
   ]
  },
  {
   "cell_type": "markdown",
   "metadata": {},
   "source": [
    "**Q1**: Create a query that lists each movie, the film category it is classified in, and the number of times it has been rented out.\n",
    "    - We want to understand more about the movies that families are watching. The following categories are considered family movies: Animation, Children, Classics, Comedy, Family and Music. "
   ]
  },
  {
   "cell_type": "markdown",
   "metadata": {},
   "source": [
    "```sql\n",
    "\n",
    "WITH table_fc AS \n",
    "    (SELECT  f.title AS film_title, \n",
    "            c.name AS category_name\n",
    "    FROM film AS f \n",
    "    JOIN film_category AS fc\n",
    "        ON fc.film_id = f.film_id\n",
    "    JOIN category AS c\n",
    "        ON c.category_id = fc.category_id),\n",
    "        \n",
    "\ttable_frc AS \n",
    "    (SELECT  f.title AS film_title, \n",
    "              COUNT(r.inventory_id) OVER (PARTITION BY f.title) AS rental_count\n",
    "      FROM film AS f \n",
    "      JOIN inventory AS i\n",
    "          ON f.film_id = i.film_id\n",
    "      JOIN rental AS r\n",
    "          ON r.inventory_id = i.inventory_id\n",
    "      )\n",
    "\n",
    "\n",
    "SELECT DISTINCT(tfrc.film_title), tfc.category_name, tfrc.rental_count\n",
    "FROM table_frc AS tfrc\n",
    "JOIN table_fc AS tfc\n",
    "    ON tfc.film_title = tfrc.film_title\n",
    "WHERE tfc.category_name LIKE 'Animation'\n",
    "/*WHERE tfc.category_name LIKE 'Children'\n",
    "WHERE tfc.category_name LIKE 'Classics'\n",
    "WHERE tfc.category_name LIKE 'Comedy'\n",
    "WHERE tfc.category_name LIKE 'Family'\n",
    "WHERE tfc.category_name LIKE 'Music'\n",
    "*/\n",
    "ORDER BY 1;\n",
    "\n",
    "```"
   ]
  },
  {
   "cell_type": "markdown",
   "metadata": {},
   "source": [
    "Now we need to know how the length of rental duration of these family-friendly movies compares to the duration that all movies are rented for. \n",
    "\n",
    "**Q2**: Provide a table with the movie titles and divide them into 4 levels (first_quarter, second_quarter, third_quarter, and final_quarter) based on the quartiles (25%, 50%, 75%) of the rental duration for movies across all categories? Make sure to also indicate the category that these family-friendly movies fall into.\n",
    "\n",
    "Check Your Solution: \n",
    "The data are not very spread out to create a very fun looking solution, but you should see something like the following if you correctly split your data. You should only need the category, film_category, and film tables to answer this and the next questions.\n",
    "\n",
    "HINT: One way to solve it requires the use of percentiles, Window functions, subqueries or temporary tables."
   ]
  },
  {
   "cell_type": "markdown",
   "metadata": {},
   "source": [
    "```sql\n",
    "\n",
    "SELECT  f.title AS film_title, \n",
    "    \tc.name AS category_name,\n",
    "    \tf.rental_duration AS film_rental_duration,\n",
    "   \t\tNTILE(4) OVER (PARTITION BY f.rental_duration) AS standard_quartile \n",
    "FROM film AS f \n",
    "JOIN film_category AS fc\n",
    "\tON fc.film_id = f.film_id\n",
    "JOIN category AS c\n",
    "  \tON c.category_id = fc.category_id\n",
    "WHERE c.name IN ('Animation','Children','Classics','Comedy','Family','Music')\n",
    "GROUP BY 1,2,3\n",
    "ORDER BY 3;\n",
    "  \n",
    "\n",
    "```"
   ]
  },
  {
   "cell_type": "markdown",
   "metadata": {},
   "source": [
    "**Q3**: Finally, provide a table with the family-friendly film category, each of the quartiles, and the corresponding count of movies within each combination of film category for each corresponding rental duration category. The resulting table should have three columns:\n",
    "   - Category\n",
    "   - Rental length category\n",
    "   - Count"
   ]
  },
  {
   "cell_type": "markdown",
   "metadata": {},
   "source": [
    "```sql\n",
    "\n",
    "WITH table_cq AS \n",
    "    (SELECT  c.name category_name,\n",
    "              NTILE(4) OVER (ORDER BY f.rental_duration) AS quartiles\n",
    "    FROM film f\n",
    "    JOIN film_category fc\n",
    "      ON f.film_id = fc.film_id\n",
    "    JOIN category c\n",
    "      ON c.category_id = fc.category_id\n",
    "    WHERE c.name IN ('Animation', 'Children', 'Classics', 'Comedy', 'Family', 'Music')\n",
    "    )\n",
    "\n",
    "\n",
    "SELECT tcq.category_name AS name, \n",
    "       tcq.quartiles AS standard_quartile, \n",
    "       COUNT(tcq.category_name) AS count\n",
    "FROM table_cq AS tcq\n",
    "GROUP BY 1,2\n",
    "ORDER BY 1,2\n",
    "\n",
    "```"
   ]
  },
  {
   "cell_type": "markdown",
   "metadata": {},
   "source": [
    "***"
   ]
  },
  {
   "cell_type": "markdown",
   "metadata": {},
   "source": [
    "## <span style='color:blue'> Question Set #2 </span>"
   ]
  },
  {
   "cell_type": "markdown",
   "metadata": {},
   "source": [
    "**Q1:** We want to find out how the two stores compare in their count of rental orders during every month for all the years we have data for. \n",
    "\n",
    "Write a query that returns: \n",
    "    - the store ID for the store, \n",
    "    - the year\n",
    "    - the month\n",
    "    - the number of rental orders each store has fulfilled for that month. \n",
    "    - Your table should include a column for each of the following: year, month, store ID and count of rental orders fulfilled during that month. "
   ]
  },
  {
   "cell_type": "markdown",
   "metadata": {},
   "source": [
    "```sql\n",
    "\n",
    "SELECT  DATE_PART('month',r.rental_date) AS Rental_month,\n",
    "\t\tDATE_PART('year',r.rental_date) AS Rental_year,\n",
    "\t\ts.store_id AS Store_ID,\n",
    "\t\tCOUNT(*) AS Count_rentals\n",
    "FROM rental AS r\n",
    "JOIN staff AS s\n",
    "ON r.staff_id = s.staff_id\n",
    "GROUP BY 1,2,3\n",
    "ORDER BY 4 DESC\n",
    "\n",
    "\n",
    "```"
   ]
  },
  {
   "cell_type": "markdown",
   "metadata": {},
   "source": [
    "**Q2:** We would like to know who were our top 10 paying customers. How many payments they made on a monthly basis during 2007, and what was the amount of the monthly payments. \n",
    "\n",
    "Write a query to capture the customer name, month and year of payment, and total payment amount for each month by these top 10 paying customers?"
   ]
  },
  {
   "cell_type": "markdown",
   "metadata": {},
   "source": [
    "```sql\n",
    "\n",
    "WITH customer_payments AS \n",
    "        (SELECT DATE_TRUNC('month',p.payment_date) AS pay_month, \n",
    "               c.first_name || ' ' || c.last_name AS fullname, \n",
    "               COUNT(*) AS pay_countpermon, \n",
    "               SUM(p.amount) AS pay_amount\n",
    "        FROM customer AS c\n",
    "        JOIN payment AS p\n",
    "            ON p.customer_id = c.customer_id\n",
    "        WHERE DATE_TRUNC('month', p.payment_date) > '2006-12-31'\n",
    "        GROUP BY 1,2\n",
    "        ORDER BY 2),\n",
    "\n",
    "     customer_top10 AS\n",
    "        (SELECT  c.first_name || ' ' || c.last_name AS fullname,\n",
    "                SUM(p.amount) AS total_amout\n",
    "        FROM customer AS c \n",
    "        JOIN payment AS p\n",
    "            ON p.customer_id = c.customer_id\n",
    "        GROUP BY 1\n",
    "        ORDER BY 2 DESC \n",
    "        LIMIT 10)\n",
    "\n",
    "\n",
    "SELECT  cp.pay_month AS pay_month, \n",
    "        cp.fullname AS fullname,\n",
    "        cp.pay_countpermon AS pay_countpermon,\n",
    "        cp.pay_amount AS pay_amount\n",
    "FROM customer_top10 AS c10\n",
    "JOIN customer_payments AS cp\n",
    "    ON cp.fullname = c10.fullname\n",
    "```"
   ]
  },
  {
   "cell_type": "markdown",
   "metadata": {},
   "source": [
    "**Q3:** Finally, for each of these top 10 paying customers, I would like to find out the difference across their monthly payments during 2007. \n",
    "\n",
    "Write a query to compare the payment amounts in each successive month. Repeat this for each of these 10 paying customers. Also, it will be tremendously helpful if you can identify the customer name who paid the most difference in terms of payments."
   ]
  },
  {
   "cell_type": "markdown",
   "metadata": {},
   "source": [
    "```sql\n",
    "WITH customer_payments AS \n",
    "        (SELECT DATE_TRUNC('month',p.payment_date) AS pay_month, \n",
    "               c.first_name || ' ' || c.last_name AS fullname, \n",
    "               COUNT(*) AS pay_countpermon, \n",
    "               SUM(p.amount) AS pay_amount\n",
    "        FROM customer AS c\n",
    "        JOIN payment AS p\n",
    "            ON p.customer_id = c.customer_id\n",
    "        WHERE DATE_TRUNC('month', p.payment_date) > '2006-12-31'\n",
    "        GROUP BY 1,2\n",
    "        ORDER BY 2),\n",
    "\n",
    "     customer_top10 AS\n",
    "        (SELECT  c.first_name || ' ' || c.last_name AS fullname,\n",
    "                SUM(p.amount) AS total_amout\n",
    "        FROM customer AS c \n",
    "        JOIN payment AS p\n",
    "            ON p.customer_id = c.customer_id\n",
    "        GROUP BY 1\n",
    "        ORDER BY 2 DESC \n",
    "        LIMIT 10),\n",
    "\n",
    "     customer_month AS \n",
    "        (SELECT  cp.pay_month, \n",
    "                 cp.fullname, \n",
    "                 cp.pay_countpermon, \n",
    "                 cp.pay_amount\n",
    "        FROM customer_payments AS cp\n",
    "        JOIN customer_top10 AS c10\n",
    "        ON cp.fullname = c10.fullname\n",
    "        ORDER BY fullname, pay_month)\n",
    "\n",
    "\n",
    "SELECT  pay_month,\n",
    "\t\tfullname,\n",
    "        pay_amount - LAG(pay_amount) OVER (ORDER BY fullname) AS difference,\n",
    "        LAG(pay_amount) OVER (ORDER BY fullname) AS lag_column\n",
    "        FROM customer_month\n",
    "ORDER BY 3 DESC\n",
    "LIMIT 2;\n",
    "    \n",
    "```"
   ]
  }
 ],
 "metadata": {
  "kernelspec": {
   "display_name": "Python 3",
   "language": "python",
   "name": "python3"
  },
  "language_info": {
   "codemirror_mode": {
    "name": "ipython",
    "version": 3
   },
   "file_extension": ".py",
   "mimetype": "text/x-python",
   "name": "python",
   "nbconvert_exporter": "python",
   "pygments_lexer": "ipython3",
   "version": "3.7.5"
  }
 },
 "nbformat": 4,
 "nbformat_minor": 2
}
