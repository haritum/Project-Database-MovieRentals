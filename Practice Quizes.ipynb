{
 "cells": [
  {
   "cell_type": "markdown",
   "metadata": {},
   "source": [
    "This jupyter-notebook contains solutions for the Practice Quizes attempted while completign the Project: Investigate a Relational Database."
   ]
  },
  {
   "cell_type": "markdown",
   "metadata": {},
   "source": [
    "***"
   ]
  },
  {
   "cell_type": "markdown",
   "metadata": {},
   "source": [
    "## Practice Quiz #1"
   ]
  },
  {
   "cell_type": "markdown",
   "metadata": {},
   "source": [
    "Q1: Create a table that provides the following details: \n",
    "    - Actor's first and last name combined as full_name\n",
    "    - Film title\n",
    "    - Film description\n",
    "    - Length of the movie. "
   ]
  },
  {
   "cell_type": "markdown",
   "metadata": {},
   "source": [
    "```sql\n",
    "\n",
    "SELECT  a.first_name AS actor_firstname,\n",
    "\t\ta.last_name AS actor_lastname,\n",
    "\t\ta.first_name || ' ' || a.last_name AS actor_fullname,\n",
    "        f.title AS film_title,\n",
    "        f.description AS film_description,\n",
    "        f.length AS film_length\n",
    "FROM film_actor AS fa\n",
    "JOIN actor AS a\n",
    "ON a.actor_id = fa.actor_id\n",
    "JOIN film AS f\n",
    "ON f.film_id = fa.film_id;\n",
    "\n",
    "```"
   ]
  },
  {
   "cell_type": "markdown",
   "metadata": {},
   "source": [
    "Q2: Create a table with list of actors and movies where the movie length was more than 60 minutes. \n",
    "    - How many rows are there in this query result?"
   ]
  },
  {
   "cell_type": "markdown",
   "metadata": {},
   "source": [
    "```sql\n",
    "SELECT COUNT(*) nfilms_gt60\n",
    "FROM\n",
    "    (SELECT  a.first_name || ' ' || a.last_name AS actor_fullname,\n",
    "            f.title AS film_title,\n",
    "            f.length AS film_length\n",
    "    FROM film_actor AS fa\n",
    "    JOIN actor AS a\n",
    "    ON a.actor_id = fa.actor_id\n",
    "    JOIN film AS f\n",
    "    ON f.film_id = fa.film_id\n",
    "    WHERE f.length > 60\n",
    "    ) sq;\n",
    "```"
   ]
  },
  {
   "cell_type": "markdown",
   "metadata": {},
   "source": [
    "Q3: Write a query that captures the \n",
    "    - actor id\n",
    "    - full name of the actor\n",
    "    - counts the number of movies each actor has made\n",
    "    (HINT: Think about whether you should group by actor id or the full name of the actor.) \n",
    "    - Identify the actor who has made the maximum number movies."
   ]
  },
  {
   "cell_type": "markdown",
   "metadata": {},
   "source": [
    "```sql\n",
    "\n",
    "SELECT  a.actor_id AS actor_id,\n",
    "        a.first_name || ' ' || a.last_name AS actor_fullname,\n",
    "        COUNT(f.title) AS nfilms_actor\n",
    "FROM film_actor AS fa\n",
    "JOIN actor AS a\n",
    "ON a.actor_id = fa.actor_id\n",
    "JOIN film AS f\n",
    "ON f.film_id = fa.film_id\n",
    "GROUP BY 1\n",
    "ORDER BY 3 DESC\n",
    "LIMIT 1;\n",
    "\n",
    "```"
   ]
  },
  {
   "cell_type": "code",
   "execution_count": null,
   "metadata": {},
   "outputs": [],
   "source": []
  }
 ],
 "metadata": {
  "kernelspec": {
   "display_name": "Python 3",
   "language": "python",
   "name": "python3"
  },
  "language_info": {
   "codemirror_mode": {
    "name": "ipython",
    "version": 3
   },
   "file_extension": ".py",
   "mimetype": "text/x-python",
   "name": "python",
   "nbconvert_exporter": "python",
   "pygments_lexer": "ipython3",
   "version": "3.7.5"
  }
 },
 "nbformat": 4,
 "nbformat_minor": 2
}
