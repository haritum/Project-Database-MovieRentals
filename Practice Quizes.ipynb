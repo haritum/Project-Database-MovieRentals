{
 "cells": [
  {
   "cell_type": "markdown",
   "metadata": {},
   "source": [
    "<span style='color:red'> This jupyter-notebook contains solutions for the Practice Quizes attempted while completign the Project: Investigate a Relational Database. </span>"
   ]
  },
  {
   "cell_type": "markdown",
   "metadata": {},
   "source": [
    "***"
   ]
  },
  {
   "cell_type": "markdown",
   "metadata": {},
   "source": [
    "## <span style='color:blue'> Practice Quiz #1 </span>"
   ]
  },
  {
   "cell_type": "markdown",
   "metadata": {},
   "source": [
    "**Q1**: Create a table that provides the following details: \n",
    "    - Actor's first and last name combined as full_name\n",
    "    - Film title\n",
    "    - Film description\n",
    "    - Length of the movie. "
   ]
  },
  {
   "cell_type": "markdown",
   "metadata": {},
   "source": [
    "```sql\n",
    "\n",
    "SELECT  a.first_name AS actor_firstname,\n",
    "\t\ta.last_name AS actor_lastname,\n",
    "\t\ta.first_name || ' ' || a.last_name AS actor_fullname,\n",
    "        f.title AS film_title,\n",
    "        f.description AS film_description,\n",
    "        f.length AS film_length\n",
    "FROM film_actor AS fa\n",
    "JOIN actor AS a\n",
    "ON a.actor_id = fa.actor_id\n",
    "JOIN film AS f\n",
    "ON f.film_id = fa.film_id;\n",
    "\n",
    "```"
   ]
  },
  {
   "cell_type": "markdown",
   "metadata": {},
   "source": [
    "**Q2**: Create a table with list of actors and movies where the movie length was more than 60 minutes. \n",
    "    - How many rows are there in this query result?"
   ]
  },
  {
   "cell_type": "markdown",
   "metadata": {},
   "source": [
    "```sql\n",
    "SELECT COUNT(*) nfilms_gt60\n",
    "FROM\n",
    "    (SELECT  a.first_name || ' ' || a.last_name AS actor_fullname,\n",
    "            f.title AS film_title,\n",
    "            f.length AS film_length\n",
    "    FROM film_actor AS fa\n",
    "    JOIN actor AS a\n",
    "    ON a.actor_id = fa.actor_id\n",
    "    JOIN film AS f\n",
    "    ON f.film_id = fa.film_id\n",
    "    WHERE f.length > 60\n",
    "    ) sq;\n",
    "```"
   ]
  },
  {
   "cell_type": "markdown",
   "metadata": {},
   "source": [
    "**Q3**: Write a query that captures the \n",
    "    - actor id\n",
    "    - full name of the actor\n",
    "    - counts the number of movies each actor has made\n",
    "    (HINT: Think about whether you should group by actor id or the full name of the actor.) \n",
    "    - Identify the actor who has made the maximum number movies."
   ]
  },
  {
   "cell_type": "markdown",
   "metadata": {},
   "source": [
    "```sql\n",
    "\n",
    "SELECT  a.actor_id AS actor_id,\n",
    "        a.first_name || ' ' || a.last_name AS actor_fullname,\n",
    "        COUNT(f.title) AS nfilms_actor\n",
    "FROM film_actor AS fa\n",
    "JOIN actor AS a\n",
    "ON a.actor_id = fa.actor_id\n",
    "JOIN film AS f\n",
    "ON f.film_id = fa.film_id\n",
    "GROUP BY 1\n",
    "ORDER BY 3 DESC\n",
    "LIMIT 1;\n",
    "\n",
    "```"
   ]
  },
  {
   "cell_type": "markdown",
   "metadata": {},
   "source": [
    "***"
   ]
  },
  {
   "cell_type": "markdown",
   "metadata": {},
   "source": [
    "## <span style='color:blue'> Practice Quiz #2 </span>"
   ]
  },
  {
   "cell_type": "markdown",
   "metadata": {},
   "source": [
    "**Q1**: Write a query that displays a table with 4 columns: \n",
    "    - actor's full name\n",
    "    - film title\n",
    "    - length of movie\n",
    "    - a column name \"filmlen_groups\" that classifies movies based on their length. \n",
    "    - Filmlen_groups should include 4 categories: \n",
    "        - 1 hour or less\n",
    "        - Between 1-2 hours\n",
    "        - Between 2-3 hours\n",
    "        - More than 3 hours."
   ]
  },
  {
   "cell_type": "markdown",
   "metadata": {},
   "source": [
    "```sql\n",
    "\n",
    "SELECT  a.first_name || ' ' || a.last_name AS actor_fullname,\n",
    "        f.title AS film_title,\n",
    "        f.length AS film_length,\n",
    "        CASE\n",
    "            WHEN (f.length <= 60) THEN '1 hour or less'\n",
    "            WHEN (f.length > 60 AND f.length <= 120) THEN 'Between 1-2 hours'\n",
    "            WHEN (f.length > 120 AND f.length <= 180) THEN 'Between 2-3 hours'\n",
    "            ELSE 'More than 3 hours' \n",
    "        END AS filmlen_groups\n",
    "FROM film_actor AS fa\n",
    "JOIN actor AS a\n",
    "ON a.actor_id = fa.actor_id\n",
    "JOIN film AS f\n",
    "ON f.film_id = fa.film_id;\n",
    "\n",
    "```"
   ]
  },
  {
   "cell_type": "markdown",
   "metadata": {},
   "source": [
    "Q2: Revise the query you wrote above to create a count of movies in each of the 4 filmlen_groups: 1 hour or less, Between 1-2 hours, Between 2-3 hours, More than 3 hours."
   ]
  },
  {
   "cell_type": "markdown",
   "metadata": {},
   "source": [
    "```sql\n",
    "\n",
    "WITH film_groups AS (SELECT f.title,\n",
    "        f.length,\n",
    "        CASE\n",
    "            WHEN (f.length <= 60) THEN '1 hour or less'\n",
    "            WHEN (f.length > 60 AND f.length <= 120) THEN 'Between 1-2 hours'\n",
    "            WHEN (f.length > 120 AND f.length <= 180) THEN 'Between 2-3 hours'\n",
    "            ELSE 'More than 3 hours' \n",
    "        END AS filmlen_groups\n",
    "FROM film AS f)\n",
    "\n",
    "\n",
    "SELECT DISTINCT(filmlen_groups),\n",
    "\t\tCOUNT(title) OVER (PARTITION BY filmlen_groups) AS nfilm_groups\n",
    "FROM film_groups\n",
    "\n",
    "```"
   ]
  },
  {
   "cell_type": "code",
   "execution_count": null,
   "metadata": {},
   "outputs": [],
   "source": []
  }
 ],
 "metadata": {
  "kernelspec": {
   "display_name": "Python 3",
   "language": "python",
   "name": "python3"
  },
  "language_info": {
   "codemirror_mode": {
    "name": "ipython",
    "version": 3
   },
   "file_extension": ".py",
   "mimetype": "text/x-python",
   "name": "python",
   "nbconvert_exporter": "python",
   "pygments_lexer": "ipython3",
   "version": "3.7.5"
  }
 },
 "nbformat": 4,
 "nbformat_minor": 2
}
