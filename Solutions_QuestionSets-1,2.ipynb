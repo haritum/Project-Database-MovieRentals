{
 "cells": [
  {
   "cell_type": "markdown",
   "metadata": {},
   "source": [
    "***"
   ]
  },
  {
   "cell_type": "markdown",
   "metadata": {},
   "source": [
    "## <span style='color:blue'> Question Set #1 </span>"
   ]
  },
  {
   "cell_type": "markdown",
   "metadata": {},
   "source": [
    "**Q1**: Create a query that lists each movie, the film category it is classified in, and the number of times it has been rented out.\n",
    "    - We want to understand more about the movies that families are watching. The following categories are considered family movies: Animation, Children, Classics, Comedy, Family and Music. "
   ]
  },
  {
   "cell_type": "markdown",
   "metadata": {},
   "source": [
    "```sql\n",
    "\n",
    "WITH table_fc AS \n",
    "    (SELECT  f.title AS film_title, \n",
    "            c.name AS category_name\n",
    "    FROM film AS f \n",
    "    JOIN film_category AS fc\n",
    "        ON fc.film_id = f.film_id\n",
    "    JOIN category AS c\n",
    "        ON c.category_id = fc.category_id),\n",
    "        \n",
    "\ttable_frc AS \n",
    "    (SELECT  f.title AS film_title, \n",
    "              COUNT(r.inventory_id) OVER (PARTITION BY f.title) AS rental_count\n",
    "      FROM film AS f \n",
    "      JOIN inventory AS i\n",
    "          ON f.film_id = i.film_id\n",
    "      JOIN rental AS r\n",
    "          ON r.inventory_id = i.inventory_id\n",
    "      )\n",
    "\n",
    "\n",
    "SELECT DISTINCT(tfrc.film_title), tfc.category_name, tfrc.rental_count\n",
    "FROM table_frc AS tfrc\n",
    "JOIN table_fc AS tfc\n",
    "    ON tfc.film_title = tfrc.film_title\n",
    "WHERE tfc.category_name LIKE ('Animation','Children','Classics','Comedy','Family','Music')\n",
    "ORDER BY 1;\n",
    "\n",
    "```"
   ]
  },
  {
   "cell_type": "markdown",
   "metadata": {},
   "source": [
    "Now we need to know how the length of rental duration of these family-friendly movies compares to the duration that all movies are rented for. \n",
    "\n",
    "**Q2**: Provide a table with the movie titles and divide them into 4 levels (first_quarter, second_quarter, third_quarter, and final_quarter) based on the quartiles (25%, 50%, 75%) of the rental duration for movies across all categories? Make sure to also indicate the category that these family-friendly movies fall into.\n",
    "\n",
    "Check Your Solution: \n",
    "The data are not very spread out to create a very fun looking solution, but you should see something like the following if you correctly split your data. You should only need the category, film_category, and film tables to answer this and the next questions.\n",
    "\n",
    "HINT: One way to solve it requires the use of percentiles, Window functions, subqueries or temporary tables."
   ]
  },
  {
   "cell_type": "markdown",
   "metadata": {},
   "source": [
    "```sql\n",
    "\n",
    "SELECT  f.title AS film_title, \n",
    "    \tc.name AS category_name,\n",
    "    \tf.rental_duration AS film_rental_duration,\n",
    "   \t\tNTILE(4) OVER (PARTITION BY f.rental_duration) AS standard_quartile \n",
    "FROM film AS f \n",
    "JOIN film_category AS fc\n",
    "\tON fc.film_id = f.film_id\n",
    "JOIN category AS c\n",
    "  \tON c.category_id = fc.category_id\n",
    "WHERE c.name IN ('Animation','Children','Classics','Comedy','Family','Music')\n",
    "GROUP BY 1,2,3\n",
    "ORDER BY 3;\n",
    "\n",
    "```"
   ]
  },
  {
   "cell_type": "markdown",
   "metadata": {},
   "source": [
    "**Q3**: Finally, provide a table with the family-friendly film category, each of the quartiles, and the corresponding count of movies within each combination of film category for each corresponding rental duration category. The resulting table should have three columns:\n",
    "   - Category\n",
    "   - Rental length category\n",
    "   - Count"
   ]
  },
  {
   "cell_type": "markdown",
   "metadata": {},
   "source": [
    "```sql\n",
    "\n",
    "WITH table_cq AS \n",
    "    (SELECT  c.name category_name,\n",
    "              NTILE(4) OVER (ORDER BY f.rental_duration) AS quartiles\n",
    "    FROM film f\n",
    "    JOIN film_category fc\n",
    "      ON f.film_id = fc.film_id\n",
    "    JOIN category c\n",
    "      ON c.category_id = fc.category_id\n",
    "    WHERE c.name IN ('Animation', 'Children', 'Classics', 'Comedy', 'Family', 'Music')\n",
    "    )\n",
    "\n",
    "\n",
    "SELECT tcq.category_name AS name, \n",
    "       tcq.quartiles AS standard_quartile, \n",
    "       COUNT(tcq.category_name) AS count\n",
    "FROM table_cq AS tcq\n",
    "GROUP BY 1,2\n",
    "ORDER BY 1,2\n",
    "\n",
    "```"
   ]
  },
  {
   "cell_type": "markdown",
   "metadata": {},
   "source": [
    "***"
   ]
  },
  {
   "cell_type": "markdown",
   "metadata": {},
   "source": [
    "## <span style='color:blue'> Question Set #2 </span>"
   ]
  },
  {
   "cell_type": "markdown",
   "metadata": {},
   "source": [
    "**Q1:** We want to find out how the two stores compare in their count of rental orders during every month for all the years we have data for. \n",
    "\n",
    "Write a query that returns: \n",
    "    - the store ID for the store, \n",
    "    - the year\n",
    "    - the month\n",
    "    - the number of rental orders each store has fulfilled for that month. \n",
    "    - Your table should include a column for each of the following: year, month, store ID and count of rental orders fulfilled during that month. "
   ]
  },
  {
   "cell_type": "markdown",
   "metadata": {},
   "source": [
    "```sql\n",
    "\n",
    "SELECT  DATE_PART('month',r.rental_date) AS Rental_month,\n",
    "\t\tDATE_PART('year',r.rental_date) AS Rental_year,\n",
    "\t\ts.store_id AS Store_ID,\n",
    "\t\tCOUNT(*) AS Count_rentals\n",
    "FROM rental AS r\n",
    "JOIN staff AS s\n",
    "ON r.staff_id = s.staff_id\n",
    "GROUP BY 1,2,3\n",
    "ORDER BY 4 DESC\n",
    "\n",
    "```"
   ]
  },
  {
   "cell_type": "markdown",
   "metadata": {},
   "source": [
    "**Q2:** We would like to know who were our top 10 paying customers. How many payments they made on a monthly basis during 2007, and what was the amount of the monthly payments. \n",
    "\n",
    "Write a query to capture the customer name, month and year of payment, and total payment amount for each month by these top 10 paying customers?"
   ]
  },
  {
   "cell_type": "markdown",
   "metadata": {},
   "source": [
    "```sql\n",
    "\n",
    "WITH customer_payments AS \n",
    "        (SELECT DATE_TRUNC('month',p.payment_date) AS pay_month, \n",
    "               c.first_name || ' ' || c.last_name AS fullname, \n",
    "               COUNT(*) AS pay_countpermon, \n",
    "               SUM(p.amount) AS pay_amount\n",
    "        FROM customer AS c\n",
    "        JOIN payment AS p\n",
    "            ON p.customer_id = c.customer_id\n",
    "        WHERE DATE_TRUNC('month', p.payment_date) > '2006-12-31'\n",
    "        GROUP BY 1,2\n",
    "        ORDER BY 2),\n",
    "\n",
    "     customer_top10 AS\n",
    "        (SELECT  c.first_name || ' ' || c.last_name AS fullname,\n",
    "                SUM(p.amount) AS total_amout\n",
    "        FROM customer AS c \n",
    "        JOIN payment AS p\n",
    "            ON p.customer_id = c.customer_id\n",
    "        GROUP BY 1\n",
    "        ORDER BY 2 DESC \n",
    "        LIMIT 10)\n",
    "\n",
    "\n",
    "SELECT  cp.pay_month AS pay_month, \n",
    "        cp.fullname AS fullname,\n",
    "        cp.pay_countpermon AS pay_countpermon,\n",
    "        cp.pay_amount AS pay_amount\n",
    "FROM customer_top10 AS c10\n",
    "JOIN customer_payments AS cp\n",
    "    ON cp.fullname = c10.fullname\n",
    "```"
   ]
  },
  {
   "cell_type": "markdown",
   "metadata": {},
   "source": [
    "**Q3:** Finally, for each of these top 10 paying customers, I would like to find out the difference across their monthly payments during 2007. \n",
    "\n",
    "Write a query to compare the payment amounts in each successive month. Repeat this for each of these 10 paying customers. Also, it will be tremendously helpful if you can identify the customer name who paid the most difference in terms of payments."
   ]
  },
  {
   "cell_type": "markdown",
   "metadata": {},
   "source": [
    "```sql\n",
    "WITH customer_payments AS \n",
    "        (SELECT DATE_TRUNC('month',p.payment_date) AS pay_month, \n",
    "               c.first_name || ' ' || c.last_name AS fullname, \n",
    "               COUNT(*) AS pay_countpermon, \n",
    "               SUM(p.amount) AS pay_amount\n",
    "        FROM customer AS c\n",
    "        JOIN payment AS p\n",
    "            ON p.customer_id = c.customer_id\n",
    "        WHERE DATE_TRUNC('month', p.payment_date) > '2006-12-31'\n",
    "        GROUP BY 1,2\n",
    "        ORDER BY 2),\n",
    "\n",
    "     customer_top10 AS\n",
    "        (SELECT  c.first_name || ' ' || c.last_name AS fullname,\n",
    "                SUM(p.amount) AS total_amout\n",
    "        FROM customer AS c \n",
    "        JOIN payment AS p\n",
    "            ON p.customer_id = c.customer_id\n",
    "        GROUP BY 1\n",
    "        ORDER BY 2 DESC \n",
    "        LIMIT 10),\n",
    "\n",
    "     customer_month AS \n",
    "        (SELECT  cp.pay_month, \n",
    "                 cp.fullname, \n",
    "                 cp.pay_countpermon, \n",
    "                 cp.pay_amount\n",
    "        FROM customer_payments AS cp\n",
    "        JOIN customer_top10 AS c10\n",
    "        ON cp.fullname = c10.fullname\n",
    "        ORDER BY fullname, pay_month)\n",
    "\n",
    "\n",
    "SELECT  pay_month,\n",
    "\t\tfullname,\n",
    "        pay_amount - LAG(pay_amount) OVER (ORDER BY fullname) AS difference,\n",
    "        LAG(pay_amount) OVER (ORDER BY fullname) AS lag_column\n",
    "        FROM customer_month\n",
    "ORDER BY 3 DESC\n",
    "LIMIT 2;\n",
    "    \n",
    "```"
   ]
  },
  {
   "cell_type": "markdown",
   "metadata": {},
   "source": [
    "***"
   ]
  }
 ],
 "metadata": {
  "kernelspec": {
   "display_name": "Python 3",
   "language": "python",
   "name": "python3"
  },
  "language_info": {
   "codemirror_mode": {
    "name": "ipython",
    "version": 3
   },
   "file_extension": ".py",
   "mimetype": "text/x-python",
   "name": "python",
   "nbconvert_exporter": "python",
   "pygments_lexer": "ipython3",
   "version": "3.7.5"
  }
 },
 "nbformat": 4,
 "nbformat_minor": 2
}
